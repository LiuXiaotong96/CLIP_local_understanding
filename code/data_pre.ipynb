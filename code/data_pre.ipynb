{
 "cells": [
  {
   "cell_type": "code",
   "execution_count": 3,
   "metadata": {},
   "outputs": [
    {
     "name": "stderr",
     "output_type": "stream",
     "text": [
      "/pless_nfs/home/liuxiaotong2017/anaconda3/envs/clipdecoder/lib/python3.10/site-packages/tqdm/auto.py:21: TqdmWarning: IProgress not found. Please update jupyter and ipywidgets. See https://ipywidgets.readthedocs.io/en/stable/user_install.html\n",
      "  from .autonotebook import tqdm as notebook_tqdm\n"
     ]
    }
   ],
   "source": [
    "import torch\n",
    "import scipy.io as io\n",
    "import numpy as np"
   ]
  },
  {
   "cell_type": "code",
   "execution_count": null,
   "metadata": {},
   "outputs": [],
   "source": [
    "import glob\n",
    "import torch\n",
    "#make generated image as data dict used by ImageReader\n",
    "data_dict_mit_generation = {}\n",
    "folders = glob.glob('mit_generation/*/*/')\n",
    "for i in folders:\n",
    "    obj,state = i.split('/')[1],i.split('/')[2]\n",
    "    classname = state+'_'+obj\n",
    "    data_dict_mit_generation[classname] = [ (i,state,obj) for i in glob.glob(i+'/*')]\n",
    "    print(obj,state,classname)\n",
    "torch.save(data_dict_mit_generation,'data_dict_mit_generation.pth')"
   ]
  },
  {
   "cell_type": "code",
   "execution_count": 6,
   "metadata": {},
   "outputs": [
    {
     "name": "stdout",
     "output_type": "stream",
     "text": [
      "63440\n"
     ]
    }
   ],
   "source": [
    "import collections\n",
    "#make real dataset as data dict used by ImageReader\n",
    "split = torch.load('/pless_nfs/home/datasets/ut_zap50K/mit-states/metadata_compositional-split-natural.t7')\n",
    "train_dict,test_dict,val_dict = collections.defaultdict(list),collections.defaultdict(list),collections.defaultdict(list)\n",
    "count=0\n",
    "basepath = \"/pless_nfs/home/datasets/MIT_state/images/\"\n",
    "for i in split:\n",
    "    path, attr, obj,set = i['image'], i['attr'], i['obj'],i['set']\n",
    "    #if i['attr'] in states and i['obj'] in objs:\n",
    "    if set == 'train':\n",
    "        train_dict[attr+'_'+obj].append((basepath+path,attr,obj))\n",
    "    if set == 'val':\n",
    "        val_dict[attr+'_'+obj].append((basepath+path,attr,obj))\n",
    "    if set == 'test':\n",
    "        test_dict[attr+'_'+obj].append((basepath+path,attr,obj))\n",
    "    count+=1\n",
    "print(count)\n",
    "all_dict = {**train_dict, **test_dict, **val_dict}\n",
    "torch.save(all_dict,'mit_state.pth')"
   ]
  }
 ],
 "metadata": {
  "kernelspec": {
   "display_name": "clipdecoder",
   "language": "python",
   "name": "python3"
  },
  "language_info": {
   "codemirror_mode": {
    "name": "ipython",
    "version": 3
   },
   "file_extension": ".py",
   "mimetype": "text/x-python",
   "name": "python",
   "nbconvert_exporter": "python",
   "pygments_lexer": "ipython3",
   "version": "3.10.9"
  }
 },
 "nbformat": 4,
 "nbformat_minor": 2
}
