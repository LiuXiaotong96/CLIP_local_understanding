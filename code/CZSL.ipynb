{
 "cells": [
  {
   "cell_type": "code",
   "execution_count": 23,
   "metadata": {},
   "outputs": [],
   "source": [
    "import clip\n",
    "import numpy as np\n",
    "import torch\n",
    "from PIL import Image\n",
    "import glob\n",
    "from Reader import ImageReader"
   ]
  },
  {
   "cell_type": "code",
   "execution_count": 65,
   "metadata": {},
   "outputs": [],
   "source": [
    "clip_model, preprocess = clip.load('ViT-B/16', device='cuda')\n",
    "# data_dict = torch.load('data_dict_mitsample.pth')\n",
    "# data_dict_g = torch.load('data_dict_mit_generation.pth')\n",
    "data_dict = torch.load('data_dict_utsample.pth')\n",
    "data_dict_g = torch.load('data_dict_ut_generation.pth')"
   ]
  },
  {
   "cell_type": "code",
   "execution_count": 66,
   "metadata": {},
   "outputs": [],
   "source": [
    "import torchvision.transforms as transforms\n",
    "preprocess_show = torch.nn.Sequential(\n",
    "    transforms.Resize(224),\n",
    "    transforms.CenterCrop(224),\n",
    ")\n",
    "dsets = ImageReader(data_dict, preprocess)\n",
    "dsets_generate = ImageReader(data_dict_g, preprocess)\n",
    "show_dsets = ImageReader(data_dict,preprocess_show)\n",
    "show_dsets_g = ImageReader(data_dict_g,preprocess_show)"
   ]
  },
  {
   "cell_type": "code",
   "execution_count": 67,
   "metadata": {},
   "outputs": [],
   "source": [
    "def eva(dsets, model):\n",
    "    Fvecs = []# 256-1200/512-400\n",
    "    Lvecs = []\n",
    "    Svecs = []\n",
    "    Ovecs = []\n",
    "    dataLoader = torch.utils.data.DataLoader(dsets, batch_size=100)\n",
    "    torch.set_grad_enabled(False)\n",
    "    for data in dataLoader:\n",
    "        inputs_bt, labels_bt,state_bt,obj_bt = data # <FloatTensor> <LongTensor>\n",
    "        inputs_bt = inputs_bt.cuda()\n",
    "        fvec = model.encode_image(inputs_bt).float()\n",
    "        fvec /= fvec.norm(dim=-1, keepdim=True)\n",
    "        fvec = fvec.cpu()\n",
    "        Fvecs.append(fvec)\n",
    "        Lvecs.append(labels_bt)\n",
    "        Svecs.append(state_bt)\n",
    "        Ovecs.append(obj_bt)\n",
    "    return torch.cat(Fvecs,0),torch.cat(Lvecs,0),torch.cat(Svecs,0),torch.cat(Ovecs,0)"
   ]
  },
  {
   "cell_type": "code",
   "execution_count": 68,
   "metadata": {},
   "outputs": [],
   "source": [
    "features,labels,states,objs = eva(dsets,clip_model)\n",
    "features_g,labels_g,states_g,objs_g = eva(dsets_generate,clip_model)"
   ]
  },
  {
   "cell_type": "code",
   "execution_count": 93,
   "metadata": {},
   "outputs": [],
   "source": [
    "def text2vector(classnames,model):\n",
    "    with torch.no_grad():\n",
    "        texts = clip.tokenize(classnames).cuda()\n",
    "        class_embeddings = model.encode_text(texts)\n",
    "        class_embeddings /= class_embeddings.norm(dim=-1, keepdim=True)\n",
    "        class_embedding = class_embeddings.mean(dim=0)\n",
    "        class_embedding /= class_embedding.norm()\n",
    "    return class_embedding\n",
    "\n",
    "def GetTectVector(sentence,model):\n",
    "    sentences = []\n",
    "    for sent in sentence:\n",
    "        text_features=text2vector(sent,model).t()\n",
    "        text_features=text_features.cpu().detach().numpy()\n",
    "        \n",
    "        text_features=text_features/np.linalg.norm(text_features)\n",
    "        sentences.append(text_features)\n",
    "    return sentences\n",
    "\n",
    "def pipeline(sat1,sat2,obj,all_feature,all_states,all_objects,datasets,prompt_sentences,model,sat_list=None):\n",
    "    text_vectors = torch.tensor(GetTectVector(prompt_sentences,model)).float()\n",
    "    idx1,idx2,obj_idx = datasets.state_to_idx[sat1],datasets.state_to_idx[sat2],datasets.obj_to_idx[obj]\n",
    "    if sat_list:\n",
    "        text_idx1,text_idx2 = sat_list.index(sat1),sat_list.index(sat2)\n",
    "    else:\n",
    "        text_idx1 = idx1\n",
    "        text_idx2 = idx2\n",
    "    #text_diff_v = (text_vectors[text_idx1]-text_vectors[text_idx2]).detach().cpu().numpy()\n",
    "    text_diff_v = (text_vectors[text_idx1]-text_vectors.mean(dim=0)).detach().cpu().numpy()\n",
    "    #text_diff_v = text_vectors[text_idx1].detach().cpu().numpy()\n",
    "    text_diff_v = text_diff_v/np.linalg.norm(text_diff_v)\n",
    "\n",
    "    feat1 = torch.logical_and(all_states==idx1,all_objects==obj_idx)\n",
    "    feat1 = all_feature[feat1]\n",
    "    # feat2 = torch.logical_and(all_states==idx2,all_objects==obj_idx)\n",
    "    # feat2 = all_feature[feat2]\n",
    "    feat2 = all_feature[all_objects==obj_idx]\n",
    "    #A_expanded = feat1.unsqueeze(1).expand(feat1.shape[0], feat2.shape[0], feat1.shape[1])\n",
    "    #B_expanded = feat2.unsqueeze(0).expand(feat1.shape[0], feat2.shape[0], feat2.shape[1])\n",
    "    #img_diff_v = A_expanded-B_expanded\n",
    "    img_diff_v = feat1-feat2.mean(dim=0)\n",
    "    #img_diff_v = feat1\n",
    "    img_diff_v /= img_diff_v.norm(dim=-1,keepdim=True)\n",
    "    img_diff_v = img_diff_v.detach().cpu().numpy()\n",
    "    sims = img_diff_v@text_diff_v.T\n",
    "    sims = sims[~np.isnan(sims)]\n",
    "    return sims\n",
    "\n",
    "def cls_acc(sat,sat_feat,model,prompt_sentences,dataset,k=1):\n",
    "    text_vectors = torch.tensor(GetTectVector(prompt_sentences,model)).float()\n",
    "    D = sat_feat@text_vectors.T\n",
    "    Dist = torch.argsort(D,dim=-1,descending=True)[:,:k]\n",
    "    res_idx = dataset.state_to_idx[sat]\n",
    "    count = torch.count_nonzero(torch.any(Dist==res_idx,dim=1))\n",
    "    acc = count/len(Dist)\n",
    "    return acc\n",
    "\n",
    "obj_to_prompts = {}\n",
    "for obj in dsets.obj_to_idx:\n",
    "    temp = obj.split('.')\n",
    "    if len(temp)==1:\n",
    "        obj_to_prompts[obj]=obj.lower()\n",
    "    if len(temp)==2:\n",
    "        obj_to_prompts[obj]=' '.join(temp[::-1]).lower()\n",
    "    if obj == 'Boots.Knee.High':\n",
    "        obj_to_prompts[obj]='knee-high boots'\n",
    "    if obj == 'Shoes.Clogs.and.Mules':\n",
    "        obj_to_prompts[obj]='clog'\n",
    "    if obj == 'Shoes.Sneakers.and.Athletic.Shoes':\n",
    "        obj_to_prompts[obj]='sneakers'\n",
    "    if obj == 'Shoes.Boat.Shoes':\n",
    "        obj_to_prompts[obj]='boat shoes'\n",
    "\n",
    "def get_sentences(obj,datasets):\n",
    "    prompt_sentences = []\n",
    "    prompt_obj = obj_to_prompts[obj]   \n",
    "        \n",
    "    for sat in datasets.state_to_idx.keys():\n",
    "        prompt_sat = sat.lower()\n",
    "        if prompt_sat == 'leather':\n",
    "            prompt_sat = 'standard leather'\n",
    "        if prompt_sat == 'synthetic':\n",
    "            prompt_sat = 'not-nylon synthetic'\n",
    "        if '.' in prompt_sat:\n",
    "            prompt_sat = prompt_sat.replace('.',' ')\n",
    "        prompt_sentences.append('a photo of '+prompt_obj+' made by '+prompt_sat+ ' material.')\n",
    "    return prompt_sentences\n",
    "\n",
    "def get_sentences2(obj,sat_list):\n",
    "    texts = ['a photo of a ' +sat+' '+obj +'.' for sat in sat_list]\n",
    "    return texts"
   ]
  },
  {
   "cell_type": "code",
   "execution_count": 94,
   "metadata": {},
   "outputs": [
    {
     "name": "stdout",
     "output_type": "stream",
     "text": [
      "Shoes.Oxfords\n",
      "Shoes.Sneakers.and.Athletic.Shoes\n",
      "Slippers\n",
      "Shoes.Heels\n",
      "Shoes.Boat.Shoes\n"
     ]
    }
   ],
   "source": [
    "import collections\n",
    "import itertools\n",
    "# state_set = set(dsets_generate.state_to_idx.keys()) & set(dsets.state_to_idx.keys())\n",
    "# obj_set = set(dsets_generate.obj_to_idx.keys()) & set(dsets.obj_to_idx.keys())\n",
    "# #candidate_dict = collections.defaultdict(list)\n",
    "# class_set = set(data_dict.keys()) & set(data_dict_generate.keys())\n",
    "# for i in temp_set:\n",
    "# # for i in class_set:\n",
    "#     sat,obj = i.split('_')[0],i.split('_')[1]\n",
    "#     candidate_dict[obj].append(sat)\n",
    "\n",
    "means_dict = {}\n",
    "stds_dict = {}\n",
    "sim_dict = {}\n",
    "sim_dict_g = {}\n",
    "means_g_dict = {}\n",
    "stds_g_dict = {}\n",
    "acc_dict = {}\n",
    "# sat_dict = {}\n",
    "for obj in dsets.obj_to_idx:\n",
    "\n",
    "    print(obj)\n",
    "    idx_obj = (objs == dsets.obj_to_idx[obj])\n",
    "    obj_features = features[idx_obj]\n",
    "    idx_obj_g = (objs_g == dsets_generate.obj_to_idx[obj])\n",
    "    obj_features_g = features_g[objs_g == dsets_generate.obj_to_idx[obj]]\n",
    "    sim_d = collections.defaultdict(list)\n",
    "    means_d = collections.defaultdict(list)\n",
    "    std_d =  collections.defaultdict(list)\n",
    "    sim_d_g = collections.defaultdict(list)\n",
    "    means_d_g = collections.defaultdict(list)\n",
    "    std_d_g =  collections.defaultdict(list)\n",
    "    acc_d = collections.defaultdict(list)\n",
    "    prompt_sentences = get_sentences(obj,datasets=dsets)\n",
    "    #prompt_sentences = get_sentences2(obj,list(dsets.state_to_idx.keys()))\n",
    "    prompt_sentences_g = get_sentences(obj,datasets=dsets_generate)\n",
    "    #prompt_sentences_g = get_sentences2(obj,list(dsets_generate.state_to_idx.keys()))\n",
    "    for sat1,sat2 in itertools.product(dsets.state_to_idx,dsets.state_to_idx):\n",
    "        if sat1+'_'+obj not in dsets.class_to_idx:\n",
    "            continue\n",
    "        if sat1==sat2:\n",
    "            continue\n",
    "        idx_sat = (states == dsets.state_to_idx[sat1])\n",
    "        idx_sat_g = (states_g == dsets_generate.state_to_idx[sat1])\n",
    "        idx_sat = torch.logical_and(idx_sat,idx_obj)\n",
    "        idx_sat_g = torch.logical_and(idx_sat_g,idx_obj_g)\n",
    "        sat_features = features[idx_sat]\n",
    "        sat_features_g = features_g[idx_sat_g]\n",
    "        sims_g = pipeline(sat1,sat2,obj,features_g,states_g,objs_g,dsets_generate,prompt_sentences_g,clip_model)\n",
    "        means_d_g[sat1].append(sims_g.mean())\n",
    "        std_d_g[sat1].append(sims_g.std())\n",
    "        sim_d_g[sat1].extend(sims_g)\n",
    "        sims = pipeline(sat1,sat2,obj,features,states,objs,dsets,prompt_sentences,clip_model)\n",
    "        sim_d[sat1].extend(sims)\n",
    "\n",
    "        means_d[sat1].append(sims.mean())\n",
    "        std_d[sat1].append(sims.std())\n",
    "        acc = cls_acc(sat1,sat_features,clip_model,prompt_sentences,dsets,k=1)\n",
    "        acc_d[sat1].append(acc)\n",
    "    means_dict[obj]=means_d\n",
    "    stds_dict[obj]=std_d\n",
    "    means_g_dict[obj]=means_d_g\n",
    "    stds_g_dict[obj]=std_d_g\n",
    "    sim_dict[obj]=sim_d\n",
    "    sim_dict_g[obj]=sim_d_g\n",
    "    acc_dict[obj]=acc_d"
   ]
  },
  {
   "cell_type": "code",
   "execution_count": 95,
   "metadata": {},
   "outputs": [],
   "source": [
    "import matplotlib.pyplot as plt\n",
    "from mpl_toolkits.mplot3d import Axes3D\n",
    "from matplotlib.ticker import NullFormatter\n",
    "from sklearn import manifold"
   ]
  },
  {
   "cell_type": "code",
   "execution_count": 96,
   "metadata": {},
   "outputs": [],
   "source": [
    "all_x_labels = []\n",
    "all_avg = []\n",
    "all_acc = []\n",
    "all_avg_g = []\n",
    "acc_vis={}\n",
    "avg_vis = {}\n",
    "avg_vis_g = {}\n",
    "x_vis = {}\n",
    "for j in sim_dict:\n",
    "    acc=[]\n",
    "    avg=[]\n",
    "    avg_g=[]\n",
    "    x_labels=[]\n",
    "    for i in sim_dict[j].keys():\n",
    "        x_labels.append(i)\n",
    "        avg.append(np.array(sim_dict[j][i]).mean())\n",
    "        avg_g.append(np.array(sim_dict_g[j][i]).mean())\n",
    "        acc.append(acc_dict[j][i][0].item())\n",
    "    acc_vis[j]=acc\n",
    "    avg_vis[j]=avg\n",
    "    avg_vis_g[j]=avg_g\n",
    "    x_vis[j]=x_labels\n",
    "    all_acc.extend(acc)\n",
    "    all_avg_g.extend(avg_g)\n",
    "    all_avg.extend(avg)\n",
    "    all_x_labels.extend(x_labels)"
   ]
  },
  {
   "cell_type": "code",
   "execution_count": 97,
   "metadata": {},
   "outputs": [
    {
     "ename": "KeyError",
     "evalue": "'beef'",
     "output_type": "error",
     "traceback": [
      "\u001b[0;31m---------------------------------------------------------------------------\u001b[0m",
      "\u001b[0;31mKeyError\u001b[0m                                  Traceback (most recent call last)",
      "Cell \u001b[0;32mIn[97], line 7\u001b[0m\n\u001b[1;32m      5\u001b[0m f\u001b[38;5;241m.\u001b[39mset_figwidth(\u001b[38;5;241m15\u001b[39m)\n\u001b[1;32m      6\u001b[0m f\u001b[38;5;241m.\u001b[39mset_figheight(\u001b[38;5;241m6\u001b[39m)\n\u001b[0;32m----> 7\u001b[0m plt\u001b[38;5;241m.\u001b[39merrorbar(\u001b[43mx_vis\u001b[49m\u001b[43m[\u001b[49m\u001b[43mv\u001b[49m\u001b[43m]\u001b[49m, np\u001b[38;5;241m.\u001b[39marray(acc_vis[v]))\n\u001b[1;32m      8\u001b[0m plt\u001b[38;5;241m.\u001b[39merrorbar(x_vis[v], np\u001b[38;5;241m.\u001b[39marray(avg_vis[v]),c\u001b[38;5;241m=\u001b[39m\u001b[38;5;124m'\u001b[39m\u001b[38;5;124my\u001b[39m\u001b[38;5;124m'\u001b[39m)\n\u001b[1;32m      9\u001b[0m plt\u001b[38;5;241m.\u001b[39mshow()\n",
      "\u001b[0;31mKeyError\u001b[0m: 'beef'"
     ]
    },
    {
     "data": {
      "text/plain": [
       "<Figure size 1500x600 with 0 Axes>"
      ]
     },
     "metadata": {},
     "output_type": "display_data"
    }
   ],
   "source": [
    "import numpy as np\n",
    "import matplotlib.pyplot as plt\n",
    "v= 'beef'\n",
    "f = plt.figure()\n",
    "f.set_figwidth(15)\n",
    "f.set_figheight(6)\n",
    "plt.errorbar(x_vis[v], np.array(acc_vis[v]))\n",
    "plt.errorbar(x_vis[v], np.array(avg_vis[v]),c='y')\n",
    "plt.show()"
   ]
  },
  {
   "cell_type": "code",
   "execution_count": 98,
   "metadata": {},
   "outputs": [
    {
     "data": {
      "image/png": "[encoded data removed]",
      "text/plain": [
       "<Figure size 1500x1000 with 1 Axes>"
      ]
     },
     "metadata": {},
     "output_type": "display_data"
    }
   ],
   "source": [
    "import numpy as np\n",
    "import matplotlib.pyplot as plt\n",
    "\n",
    "f = plt.figure()\n",
    "f.set_figwidth(15)\n",
    "f.set_figheight(10)\n",
    "\n",
    "plt.scatter(all_avg,all_acc,c='b')\n",
    "plt.scatter(all_avg_g,all_acc,c='r')\n",
    "plt.show()"
   ]
  },
  {
   "cell_type": "code",
   "execution_count": 99,
   "metadata": {},
   "outputs": [
    {
     "name": "stdout",
     "output_type": "stream",
     "text": [
      "g 0.6945071953005387 3.3291793732587393e-07\n",
      "0.547259582568092 0.00012889356663159452\n"
     ]
    }
   ],
   "source": [
    "from scipy.stats import kstest\n",
    "from scipy import stats\n",
    "r,p = stats.pearsonr(np.array(all_avg_g), all_acc,alternative='greater')\n",
    "print('g',r,p)\n",
    "r,p = stats.pearsonr(np.array(all_avg), all_acc,alternative='greater')\n",
    "print(r,p)"
   ]
  },
  {
   "cell_type": "code",
   "execution_count": null,
   "metadata": {},
   "outputs": [],
   "source": []
  },
  {
   "cell_type": "code",
   "execution_count": null,
   "metadata": {},
   "outputs": [],
   "source": []
  },
  {
   "cell_type": "code",
   "execution_count": null,
   "metadata": {},
   "outputs": [],
   "source": []
  }
 ],
 "metadata": {
  "kernelspec": {
   "display_name": "clipdecoder",
   "language": "python",
   "name": "python3"
  },
  "language_info": {
   "codemirror_mode": {
    "name": "ipython",
    "version": 3
   },
   "file_extension": ".py",
   "mimetype": "text/x-python",
   "name": "python",
   "nbconvert_exporter": "python",
   "pygments_lexer": "ipython3",
   "version": "3.10.9"
  }
 },
 "nbformat": 4,
 "nbformat_minor": 2
}
